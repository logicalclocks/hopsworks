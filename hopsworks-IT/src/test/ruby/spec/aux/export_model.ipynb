{
 "cells": [
  {
   "cell_type": "code",
   "execution_count": null,
   "metadata": {},
   "outputs": [],
   "source": [
    "def wrapper():\n",
    "    import os\n",
    "    import random\n",
    "    from hops import model\n",
    "    model_path = os.getcwd() + '/model'\n",
    "    if not os.path.exists(model_path):\n",
    "        os.mkdir(model_path)\n",
    "    model.export(model_path, \"mnist\", metrics={'acc': random.randrange(10000)})\n",
    "    model.export(model_path, \"mnist\", metrics={'acc': random.randrange(10000)})\n",
    "    model.export(model_path, \"mnist\", metrics={'acc': random.randrange(10000)})\n",
    "    model.export(model_path, \"cifar\", metrics={'acc': random.randrange(10000)})"
   ]
  },
  {
   "cell_type": "code",
   "execution_count": null,
   "metadata": {},
   "outputs": [],
   "source": [
    "from hops import experiment\n",
    "experiment.launch(wrapper)"
   ]
  }
 ],
 "metadata": {
  "kernelspec": {
   "display_name": "PySpark",
   "language": "",
   "name": "pysparkkernel"
  },
  "language_info": {
   "codemirror_mode": {
    "name": "python",
    "version": 2
   },
   "mimetype": "text/x-python",
   "name": "pyspark",
   "pygments_lexer": "python2"
  }
 },
 "nbformat": 4,
 "nbformat_minor": 4
}