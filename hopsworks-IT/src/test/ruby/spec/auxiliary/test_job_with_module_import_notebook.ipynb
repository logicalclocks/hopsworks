{
 "cells": [
  {
   "cell_type": "code",
   "execution_count": null,
   "metadata": {
    "pycharm": {
     "name": "#%%\n"
    }
   },
   "outputs": [],
   "source": [
    "# Copyright (C) 2023, Hopsworks AB. All rights reserved\n",
    "# !/usr/bin/env python\n",
    "# -*- coding: utf-8 -*-\n",
    "\n",
    "\"\"\"This module is used for Python Kubernetes jobs IT tests.\n",
    "\"\"\"\n",
    "import os\n",
    "import sys\n",
    "from hops import jobs\n",
    "from test_module import hello\n",
    "\n",
    "str = hello.world()\n",
    "print(str)\n",
    "\n",
    "arguments = len(sys.argv) - 1\n",
    "position = 1\n",
    "\n",
    "while (arguments >= position):\n",
    "    print (\"Parameter %i: %s\" % (position, sys.argv[position]))\n",
    "    position = position + 1\n",
    "\n",
    "cwd = os.getcwd()\n",
    "print(\"hello world\")\n",
    "#Print to stderr\n",
    "print(\"fatal error\", file=sys.stderr)\n",
    "\n",
    "with open(\"./logs/output.txt\", \"w\") as text_file:\n",
    "    text_file.write(str(cwd) + \"\\n\")\n",
    "    text_file.write('\\n'.join(sys.argv[1:]))\n",
    "\n",
    "\n",
    "execs = jobs.get_executions(os.environ[\"HOPSWORKS_JOB_NAME\"], \"\")\n",
    "\n",
    "with open(\"./logs/output.txt\", \"w\") as text_file:\n",
    "    text_file.write(str(execs))\n"
   ]
  }
 ],
 "metadata": {
  "kernelspec": {
   "display_name": "Python",
   "language": "python",
   "name": "python3"
  },
  "language_info": {
   "codemirror_mode": {
    "name": "ipython",
    "version": 3
   },
   "file_extension": ".py",
   "mimetype": "text/x-python",
   "name": "python",
   "nbconvert_exporter": "python",
   "pygments_lexer": "ipython3",
   "version": "3.8.11"
  }
 },
 "nbformat": 4,
 "nbformat_minor": 4
}
