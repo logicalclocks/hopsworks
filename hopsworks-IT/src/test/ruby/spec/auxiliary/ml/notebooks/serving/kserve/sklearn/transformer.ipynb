{
 "cells": [
  {
   "cell_type": "code",
   "execution_count": 1,
   "id": "da44c772",
   "metadata": {},
   "outputs": [],
   "source": [
    "class Transformer(object):\n",
    "    def __init__(self):\n",
    "        \"\"\"Initialization code goes here\"\"\"\n",
    "        # NOTE: The env var ARTIFACT_FILES_PATH contains the path to the model artifact files\n",
    "\n",
    "    def preprocess(self, inputs):\n",
    "        \"\"\"Transform the request inputs. The object returned by this method will be used as model input.\"\"\"\n",
    "        return inputs\n",
    "\n",
    "    def postprocess(self, outputs):\n",
    "        \"\"\"Transform the predictions computed by the model before returning a response.\"\"\"\n",
    "        return outputs"
   ]
  },
  {
   "cell_type": "code",
   "execution_count": null,
   "id": "68dfb287",
   "metadata": {},
   "outputs": [],
   "source": []
  }
 ],
 "metadata": {
  "kernelspec": {
   "display_name": "Python",
   "language": "python",
   "name": "python3"
  },
  "language_info": {
   "codemirror_mode": {
    "name": "ipython",
    "version": 3
   },
   "file_extension": ".py",
   "mimetype": "text/x-python",
   "name": "python",
   "nbconvert_exporter": "python",
   "pygments_lexer": "ipython3",
   "version": "3.8.11"
  }
 },
 "nbformat": 4,
 "nbformat_minor": 5
}